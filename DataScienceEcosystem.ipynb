{
 "cells": [
  {
   "cell_type": "markdown",
   "id": "ada486ba-6d5e-4325-84dd-c13c631bd2eb",
   "metadata": {},
   "source": [
    "# Data Science Tools and Ecosystem"
   ]
  },
  {
   "cell_type": "markdown",
   "id": "23dac2ed-4cb0-4a6d-ad04-a9c8f2cefb29",
   "metadata": {},
   "source": [
    "En este cuaderno, se resumen las herramientas y ecosistemas de ciencia de datos."
   ]
  },
  {
   "cell_type": "markdown",
   "id": "9d45de59-f437-4f1a-b92a-5c817fa0ff72",
   "metadata": {},
   "source": [
    "**Objetivos:**\n",
    "\n",
    "- Listar lenguajes populares para Ciencia de Datos.\n",
    "- Listar bibliotecas comúnmente utilizadas en Ciencia de Datos.\n",
    "- Algunas herramientas para Ciencia de Datos."
   ]
  },
  {
   "cell_type": "markdown",
   "id": "e6d0b1c1-633f-4541-b043-e49b4eeea96c",
   "metadata": {},
   "source": [
    "Algunos de los lenguajes populares que utilizan los científicos de datos son:\n",
    "\n",
    "1. Python\n",
    "2. R\n",
    "3. Julia"
   ]
  },
  {
   "cell_type": "markdown",
   "id": "9adae2a8-8368-4974-931f-09ebbf5c71bd",
   "metadata": {},
   "source": [
    "Algunas de las bibliotecas comúnmente utilizadas por los científicos de datos incluyen:\n",
    "\n",
    "1. Matplotlib\n",
    "2. Pandas\n",
    "3. Scikit-learn"
   ]
  },
  {
   "cell_type": "markdown",
   "id": "ec0b7d3e-6f94-41c2-bf7c-12d4825a157f",
   "metadata": {},
   "source": [
    "| Herramientas de Ciencia de Datos  |\n",
    "|-----------------------------------|\n",
    "| RStudio                           |\n",
    "| Jupyter Notebook                  |\n",
    "| VS Code                           |\n",
    "\n",
    "\n",
    "\n",
    "\n",
    "\n"
   ]
  },
  {
   "cell_type": "markdown",
   "id": "9ee5bad0-6535-404b-a0b8-561b55e269d7",
   "metadata": {},
   "source": [
    "### A continuación, se presentan algunos ejemplos de evaluación de expresiones aritméticas en Python"
   ]
  },
  {
   "cell_type": "code",
   "execution_count": 2,
   "id": "a39b3683-170e-4c73-83b3-f51d7ef738c7",
   "metadata": {},
   "outputs": [
    {
     "data": {
      "text/plain": [
       "17"
      ]
     },
     "execution_count": 2,
     "metadata": {},
     "output_type": "execute_result"
    }
   ],
   "source": [
    "# Esta es una expresión aritmética simple para multiplicar y luego sumar enteros\n",
    "(3*4)+5"
   ]
  },
  {
   "cell_type": "code",
   "execution_count": 3,
   "id": "0ff9644b-3fc9-4046-bc4b-00989a937f39",
   "metadata": {},
   "outputs": [
    {
     "data": {
      "text/plain": [
       "3.3333333333333335"
      ]
     },
     "execution_count": 3,
     "metadata": {},
     "output_type": "execute_result"
    }
   ],
   "source": [
    "# Esto convertirá 200 minutos a horas dividiendo por 60\n",
    "200/60"
   ]
  },
  {
   "cell_type": "markdown",
   "id": "399c0857-f99c-42ab-862d-30cc2dc4d762",
   "metadata": {},
   "source": [
    "## Autor\n",
    "\n",
    "Fabio Menéndez\n"
   ]
  },
  {
   "cell_type": "code",
   "execution_count": null,
   "id": "2bce10d2-d0b1-4778-9829-a64e49b45dda",
   "metadata": {},
   "outputs": [],
   "source": []
  }
 ],
 "metadata": {
  "kernelspec": {
   "display_name": "Python 3 (ipykernel)",
   "language": "python",
   "name": "python3"
  },
  "language_info": {
   "codemirror_mode": {
    "name": "ipython",
    "version": 3
   },
   "file_extension": ".py",
   "mimetype": "text/x-python",
   "name": "python",
   "nbconvert_exporter": "python",
   "pygments_lexer": "ipython3",
   "version": "3.11.9"
  }
 },
 "nbformat": 4,
 "nbformat_minor": 5
}
